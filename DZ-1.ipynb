{
 "cells": [
  {
   "cell_type": "markdown",
   "id": "1b225ca6",
   "metadata": {},
   "source": [
    "# Задание №1"
   ]
  },
  {
   "cell_type": "markdown",
   "id": "9d7ca2db",
   "metadata": {},
   "source": [
    "Для реализованной модели градиентного бустинга постройте графики зависимости ошибки от количества деревьев в ансамбле и от максимальной глубины деревьев. Сделайте выводы о зависимости ошибки от этих параметров."
   ]
  },
  {
   "cell_type": "code",
   "execution_count": 28,
   "id": "97719759",
   "metadata": {},
   "outputs": [],
   "source": [
    "from sklearn import model_selection\n",
    "from sklearn.tree import DecisionTreeRegressor\n",
    "from sklearn.datasets import load_diabetes\n",
    "import matplotlib.pyplot as plt\n",
    "import numpy as np"
   ]
  },
  {
   "cell_type": "code",
   "execution_count": 29,
   "id": "5cdc4ba9",
   "metadata": {},
   "outputs": [
    {
     "data": {
      "text/plain": [
       "((442, 10), (442,))"
      ]
     },
     "execution_count": 29,
     "metadata": {},
     "output_type": "execute_result"
    }
   ],
   "source": [
    "X, y = load_diabetes(return_X_y=True)\n",
    "X.shape, y.shape"
   ]
  },
  {
   "cell_type": "markdown",
   "id": "c5d6af12",
   "metadata": {},
   "source": [
    "Разделим выборку на обучающую и тестовую в соотношении 75/25."
   ]
  },
  {
   "cell_type": "code",
   "execution_count": 30,
   "id": "bfe29d35",
   "metadata": {},
   "outputs": [],
   "source": [
    "X_train, X_test, y_train, y_test = model_selection.train_test_split(X, y, test_size=0.25)"
   ]
  },
  {
   "cell_type": "markdown",
   "id": "e6a7a3da",
   "metadata": {},
   "source": [
    "Напишем функцию, реализующую предсказание в градиентном бустинге."
   ]
  },
  {
   "cell_type": "code",
   "execution_count": 31,
   "id": "54e98159",
   "metadata": {},
   "outputs": [],
   "source": [
    "def gb_predict(X, trees_list, eta):\n",
    "    predictions = np.array(\n",
    "        [sum([eta * alg.predict([x])[0] for alg in trees_list]) for x in X]\n",
    "    )\n",
    "    return predictions"
   ]
  },
  {
   "cell_type": "markdown",
   "id": "787f4eff",
   "metadata": {},
   "source": [
    "В качестве функционала ошибки будем использовать среднеквадратичную ошибку."
   ]
  },
  {
   "cell_type": "code",
   "execution_count": 32,
   "id": "c0458607",
   "metadata": {},
   "outputs": [],
   "source": [
    "def mse(y, y_pred):\n",
    "    return (sum((y - y_pred) ** 2)) / len(y)"
   ]
  },
  {
   "cell_type": "markdown",
   "id": "40a9510d",
   "metadata": {},
   "source": [
    "Используем  𝐿2\n",
    "  loss  𝐿(𝑦,𝑧)=(𝑦−𝑧)2,\n",
    "  ее производная по  𝑧\n",
    "  примет вид  𝐿′(𝑦,𝑧)=2(𝑧−𝑦)\n",
    " . Реализуем ее также в виде функции (коэффициент 2 можно отбросить)."
   ]
  },
  {
   "cell_type": "code",
   "execution_count": 33,
   "id": "677cf0a6",
   "metadata": {},
   "outputs": [],
   "source": [
    "def residual(y, z):\n",
    "    return -(z - y)"
   ]
  },
  {
   "cell_type": "markdown",
   "id": "79229ed0",
   "metadata": {},
   "source": [
    "Реализуем функцию обучения градиентного бустинга."
   ]
  },
  {
   "cell_type": "code",
   "execution_count": 34,
   "id": "14c7a1e8",
   "metadata": {},
   "outputs": [],
   "source": [
    "def gb_fit(n_trees, max_depth, X_train, X_test, y_train, y_test, eta):\n",
    "    \n",
    "    # Деревья будем записывать в список\n",
    "    trees = []\n",
    "    \n",
    "    # Будем записывать ошибки на обучающей и тестовой выборке на каждой итерации в список\n",
    "    train_errors = []\n",
    "    test_errors = []\n",
    "    \n",
    "    for i in range(n_trees):\n",
    "        tree = DecisionTreeRegressor(max_depth=max_depth, random_state=42)\n",
    "        \n",
    "        # первый алгоритм просто обучаем на выборке и добавляем в список\n",
    "        if len(trees) == 0:\n",
    "            tree.fit(X_train, y_train)\n",
    "            \n",
    "            train_errors.append(mse(y_train, gb_predict(X_train, trees, eta)))\n",
    "            test_errors.append(mse(y_test, gb_predict(X_test, trees, eta)))\n",
    "        else:\n",
    "            # Получим ответы на текущей композиции\n",
    "            target = gb_predict(X_train, trees, eta)\n",
    "            \n",
    "            # алгоритмы начиная со второго обучаем на сдвиг\n",
    "            tree.fit(X_train, residual(y_train, target))\n",
    "            \n",
    "            train_errors.append(mse(y_train, gb_predict(X_train, trees, eta)))\n",
    "            test_errors.append(mse(y_test, gb_predict(X_test, trees, eta)))\n",
    "            \n",
    "        trees.append(tree)\n",
    "        \n",
    "    return trees, train_errors, test_errors"
   ]
  },
  {
   "cell_type": "markdown",
   "id": "73b7485c",
   "metadata": {},
   "source": [
    "Теперь обучим несколько моделей с разными параметрами и исследуем их поведение."
   ]
  },
  {
   "cell_type": "code",
   "execution_count": 228,
   "id": "004443be",
   "metadata": {},
   "outputs": [],
   "source": [
    "# Число деревьев в ансамбле\n",
    "n_trees = 50\n",
    "\n",
    "# Максимальная глубина деревьев\n",
    "max_depth = 3\n",
    "\n",
    "# Шаг\n",
    "eta = 0.1\n",
    "\n",
    "trees, train_errors, test_errors = gb_fit(n_trees, max_depth, X_train, X_test, y_train, y_test, eta)"
   ]
  },
  {
   "cell_type": "code",
   "execution_count": 229,
   "id": "6ec35734",
   "metadata": {},
   "outputs": [],
   "source": [
    "def evaluate_alg(X_train, X_test, y_train, y_test, trees, eta):\n",
    "    train_prediction = gb_predict(X_train, trees, eta)\n",
    "\n",
    "    print(f'Ошибка алгоритма из {n_trees} деревьев глубиной {max_depth} \\\n",
    "    с шагом {eta} на тренировочной выборке: {mse(y_train, train_prediction)}')\n",
    "\n",
    "    test_prediction = gb_predict(X_test, trees, eta)\n",
    "\n",
    "    print(f'Ошибка алгоритма из {n_trees} деревьев глубиной {max_depth} \\\n",
    "    с шагом {eta} на тестовой выборке: {mse(y_test, test_prediction)}')"
   ]
  },
  {
   "cell_type": "code",
   "execution_count": 230,
   "id": "8f17f5d1",
   "metadata": {},
   "outputs": [
    {
     "name": "stdout",
     "output_type": "stream",
     "text": [
      "Ошибка алгоритма из 50 деревьев глубиной 3     с шагом 0.1 на тренировочной выборке: 1423.074778177434\n",
      "Ошибка алгоритма из 50 деревьев глубиной 3     с шагом 0.1 на тестовой выборке: 2904.1347623632423\n"
     ]
    }
   ],
   "source": [
    "evaluate_alg(X_train, X_test, y_train, y_test, trees, eta)"
   ]
  },
  {
   "cell_type": "markdown",
   "id": "be56acea",
   "metadata": {},
   "source": [
    "Построим графики зависимости ошибки на обучающей и тестовой выборках от количества деревьев в ансамбле."
   ]
  },
  {
   "cell_type": "code",
   "execution_count": 231,
   "id": "a55b46e4",
   "metadata": {},
   "outputs": [],
   "source": [
    "def get_error_plot_by_n_trees(n_trees, train_err, test_err):\n",
    "    plt.xlabel('n_trees')\n",
    "    plt.ylabel('MSE')\n",
    "    plt.xlim(0, n_trees)\n",
    "    plt.plot(list(range(n_trees)), train_err, label='train error')\n",
    "    plt.plot(list(range(n_trees)), test_err, label='test error')\n",
    "    plt.legend(loc='upper right')\n",
    "    plt.show()"
   ]
  },
  {
   "cell_type": "code",
   "execution_count": 232,
   "id": "f7413655",
   "metadata": {},
   "outputs": [
    {
     "data": {
      "image/png": "[encoded data removed]",
      "text/plain": [
       "<Figure size 432x288 with 1 Axes>"
      ]
     },
     "metadata": {
      "needs_background": "light"
     },
     "output_type": "display_data"
    }
   ],
   "source": [
    "get_error_plot_by_n_trees(n_trees, train_errors, test_errors)"
   ]
  },
  {
   "cell_type": "markdown",
   "id": "0065cde2",
   "metadata": {},
   "source": [
    "Построим графики зависимости ошибки на обучающей и тестовой выборках от максимальной глубины деревьев."
   ]
  },
  {
   "cell_type": "code",
   "execution_count": 165,
   "id": "50d2fe99",
   "metadata": {},
   "outputs": [],
   "source": [
    "def get_error_plot_by_max_depth(max_depth, train_err, test_err):\n",
    "    plt.xlabel('max_depth')\n",
    "    plt.ylabel('MSE')\n",
    "    plt.xlim(0, max_depth)\n",
    "    plt.plot(list(range(max_depth)), train_err, label='train error')\n",
    "    plt.plot(list(range(max_depth)), test_err, label='test error')\n",
    "    plt.legend(loc='upper right')\n",
    "    plt.show()"
   ]
  },
  {
   "cell_type": "code",
   "execution_count": 196,
   "id": "5a4f3d56",
   "metadata": {},
   "outputs": [
    {
     "name": "stdout",
     "output_type": "stream",
     "text": [
      "CPU times: user 21min 53s, sys: 3.01 s, total: 21min 56s\n",
      "Wall time: 21min 57s\n"
     ]
    }
   ],
   "source": [
    "%%time\n",
    "# Число деревьев в ансамбле\n",
    "n_trees = 50\n",
    "\n",
    "# Шаг\n",
    "eta = 0.1\n",
    "\n",
    "# Максимальная глубина деревьев\n",
    "max_depth = 50\n",
    "\n",
    "errors_train = []\n",
    "errors_test = []\n",
    "\n",
    "for i in range(max_depth):\n",
    "    i += 1\n",
    "    trees, train_errors, test_errors = gb_fit(n_trees, i, X_train, X_test, y_train, y_test, eta)\n",
    "    errors_train.append(train_errors[-1])\n",
    "    errors_test.append(test_errors[-1])"
   ]
  },
  {
   "cell_type": "code",
   "execution_count": 197,
   "id": "b6833546",
   "metadata": {},
   "outputs": [
    {
     "data": {
      "image/png": "[encoded data removed]",
      "text/plain": [
       "<Figure size 432x288 with 1 Axes>"
      ]
     },
     "metadata": {
      "needs_background": "light"
     },
     "output_type": "display_data"
    }
   ],
   "source": [
    "get_error_plot_by_max_depth(50, errors_train, errors_test)"
   ]
  },
  {
   "cell_type": "markdown",
   "id": "a28daed6",
   "metadata": {},
   "source": [
    "Вывод: при увеличении количества деревьев в ансамбле ошибка падает, так как каждое новое дерево обучается на ошибках предыдущего. При увеличении глубины дерева наблюдаются явные признаки переобучения, потому что модель идеально подстраивается под тренировочные данные, но не может ничего предсказать на тестовых. "
   ]
  },
  {
   "cell_type": "markdown",
   "id": "38314878",
   "metadata": {},
   "source": [
    "# Задание №2"
   ]
  },
  {
   "cell_type": "markdown",
   "id": "ac58ea39",
   "metadata": {},
   "source": [
    "Модифицируйте реализованный алгоритм, чтобы получился стохастический градиентный бустинг. Размер подвыборки примите равным 0.5. Сравните на одном графике кривые изменения ошибки на тестовой выборке в зависимости от числа итераций."
   ]
  },
  {
   "cell_type": "code",
   "execution_count": 240,
   "id": "0c5d5df2",
   "metadata": {},
   "outputs": [],
   "source": [
    "def sgb_fit(n_trees, max_depth, X_train, X_test, y_train, y_test, eta):\n",
    "    \n",
    "    # Деревья будем записывать в список\n",
    "    trees = []\n",
    "    \n",
    "    # Будем записывать ошибки на обучающей и тестовой выборке на каждой итерации в список\n",
    "    train_errors = []\n",
    "    test_errors = []\n",
    "    \n",
    "    # Подвыборка\n",
    "    size = len(X_train) // 2\n",
    "    train_inds = np.random.randint(X_train.shape[0], size=size)\n",
    "    \n",
    "    for i in range(n_trees):\n",
    "        tree = DecisionTreeRegressor(max_depth=max_depth, random_state=42)\n",
    "        \n",
    "        # первый алгоритм просто обучаем на выборке и добавляем в список\n",
    "        if len(trees) == 0:\n",
    "            tree.fit(X_train[train_inds], y_train[train_inds])\n",
    "            \n",
    "            train_errors.append(mse(y_train[train_inds], gb_predict(X_train[train_inds], trees, eta)))\n",
    "            test_errors.append(mse(y_test, gb_predict(X_test, trees, eta)))\n",
    "        else:\n",
    "            # Получим ответы на текущей композиции\n",
    "            target = gb_predict(X_train[train_inds], trees, eta)\n",
    "            \n",
    "            # алгоритмы начиная со второго обучаем на сдвиг\n",
    "            tree.fit(X_train[train_inds], residual(y_train[train_inds], target))\n",
    "            \n",
    "            train_errors.append(mse(y_train[train_inds], gb_predict(X_train[train_inds], trees, eta)))\n",
    "            test_errors.append(mse(y_test, gb_predict(X_test, trees, eta)))\n",
    "            \n",
    "        trees.append(tree)\n",
    "        \n",
    "    return trees, train_errors, test_errors"
   ]
  },
  {
   "cell_type": "code",
   "execution_count": 241,
   "id": "27d0c369",
   "metadata": {},
   "outputs": [],
   "source": [
    "# Число деревьев в ансамбле\n",
    "n_trees = 50\n",
    "\n",
    "# Максимальная глубина деревьев\n",
    "max_depth = 3\n",
    "\n",
    "# Шаг\n",
    "eta = 0.1\n",
    "\n",
    "trees_1, train_errors_1, test_errors_1 = sgb_fit(n_trees, max_depth, X_train, X_test, y_train, y_test, eta)"
   ]
  },
  {
   "cell_type": "code",
   "execution_count": 242,
   "id": "dc472308",
   "metadata": {},
   "outputs": [
    {
     "name": "stdout",
     "output_type": "stream",
     "text": [
      "Ошибка алгоритма из 50 деревьев глубиной 3     с шагом 0.1 на тренировочной выборке: 2790.7521767394874\n",
      "Ошибка алгоритма из 50 деревьев глубиной 3     с шагом 0.1 на тестовой выборке: 3833.807264448109\n"
     ]
    }
   ],
   "source": [
    "evaluate_alg(X_train, X_test, y_train, y_test, trees_1, eta)"
   ]
  },
  {
   "cell_type": "code",
   "execution_count": 243,
   "id": "f31e5962",
   "metadata": {},
   "outputs": [],
   "source": [
    "def get_error_plot_by_n_trees(n_trees, train_err, test_err):\n",
    "    plt.xlabel('n_trees')\n",
    "    plt.ylabel('MSE')\n",
    "    plt.xlim(0, n_trees)\n",
    "    plt.plot(list(range(n_trees)), train_err, label='test error GB')\n",
    "    plt.plot(list(range(n_trees)), test_err, label='test error SGB')\n",
    "    plt.legend(loc='upper right')\n",
    "    plt.show()"
   ]
  },
  {
   "cell_type": "code",
   "execution_count": 244,
   "id": "94dbd77a",
   "metadata": {},
   "outputs": [
    {
     "data": {
      "image/png": "[encoded data removed]",
      "text/plain": [
       "<Figure size 432x288 with 1 Axes>"
      ]
     },
     "metadata": {
      "needs_background": "light"
     },
     "output_type": "display_data"
    }
   ],
   "source": [
    "get_error_plot_by_n_trees(n_trees, test_errors, test_errors_1)"
   ]
  },
  {
   "cell_type": "code",
   "execution_count": null,
   "id": "e50aa5dc",
   "metadata": {},
   "outputs": [],
   "source": []
  }
 ],
 "metadata": {
  "kernelspec": {
   "display_name": "Python 3 (ipykernel)",
   "language": "python",
   "name": "python3"
  },
  "language_info": {
   "codemirror_mode": {
    "name": "ipython",
    "version": 3
   },
   "file_extension": ".py",
   "mimetype": "text/x-python",
   "name": "python",
   "nbconvert_exporter": "python",
   "pygments_lexer": "ipython3",
   "version": "3.9.12"
  }
 },
 "nbformat": 4,
 "nbformat_minor": 5
}
