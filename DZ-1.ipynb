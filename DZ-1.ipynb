{
 "cells": [
  {
   "cell_type": "code",
   "execution_count": 1,
   "id": "82a09b4e",
   "metadata": {},
   "outputs": [],
   "source": [
    "import matplotlib.pyplot as plt\n",
    "import random\n",
    "\n",
    "from matplotlib.colors import ListedColormap\n",
    "from sklearn.datasets import make_classification, make_circles, make_regression\n",
    "from sklearn.tree import DecisionTreeClassifier, DecisionTreeRegressor, plot_tree\n",
    "from sklearn.metrics import accuracy_score\n",
    "\n",
    "import numpy as np\n",
    "import pandas as pd\n",
    "\n",
    "import warnings\n",
    "warnings.filterwarnings('ignore')"
   ]
  },
  {
   "cell_type": "markdown",
   "id": "e8f01129",
   "metadata": {},
   "source": [
    "# Задание №1"
   ]
  },
  {
   "cell_type": "markdown",
   "id": "c4368fed",
   "metadata": {},
   "source": [
    "В коде из методички реализуйте один или несколько критериев останова: количество листьев, количество используемых признаков, глубина дерева и т. д."
   ]
  },
  {
   "cell_type": "code",
   "execution_count": 2,
   "id": "0f5ee4c5",
   "metadata": {},
   "outputs": [],
   "source": [
    "classification_data, classification_labels = make_classification(n_features=2, n_informative=2, \n",
    "                                                                 n_classes=2, n_redundant=0,\n",
    "                                                                 n_clusters_per_class=1, random_state=5)"
   ]
  },
  {
   "cell_type": "code",
   "execution_count": 3,
   "id": "a5c208d0",
   "metadata": {},
   "outputs": [
    {
     "data": {
      "image/png": "[encoded data removed]",
      "text/plain": [
       "<Figure size 576x576 with 1 Axes>"
      ]
     },
     "metadata": {
      "needs_background": "light"
     },
     "output_type": "display_data"
    }
   ],
   "source": [
    "# Визуалищируем данные\n",
    "colors = ListedColormap(['yellow', 'purple'])\n",
    "\n",
    "plt.figure(figsize=(8, 8))\n",
    "plt.scatter(list(map(lambda x: x[0], classification_data)), list(map(lambda x: x[1], classification_data)), c=classification_labels, cmap=colors)\n",
    "plt.show()"
   ]
  },
  {
   "cell_type": "code",
   "execution_count": 4,
   "id": "96a7f15f",
   "metadata": {},
   "outputs": [],
   "source": [
    "# Реализуем класс узла\n",
    "\n",
    "class Node:\n",
    "    \n",
    "    def __init__(self, index, t, true_branch, false_branch):\n",
    "        self.index = index # индекс признака, по которому ведется сравнение с порогом в этом узле\n",
    "        self.t = t # значение порога\n",
    "        self.true_branch = true_branch # поддерево, удовлетворяющее условию в узле\n",
    "        self.false_branch = false_branch # поддерево, не удовлетворяющее условию в узле"
   ]
  },
  {
   "cell_type": "code",
   "execution_count": 5,
   "id": "5806493e",
   "metadata": {},
   "outputs": [],
   "source": [
    "# И класс терминального узла (листа)\n",
    "\n",
    "class Leaf:\n",
    "    \n",
    "    def __init__(self, data, labels):\n",
    "        self.data = data\n",
    "        self.labels = labels\n",
    "        self.prediction = self.predict()\n",
    "    \n",
    "    # подсчет количества объектов разных классов\n",
    "    def predict(self):\n",
    "        classes = {} # сформируем словарь \"класс: количество объектов\"\n",
    "        for label in self.labels:\n",
    "            if label not in classes:\n",
    "                classes[label] = 0\n",
    "            classes[label] += 1\n",
    "            \n",
    "        # найдем класс, количество объектов которого будет максимальным в этом листе и вернем его\n",
    "        prediction = max(classes, key=classes.get)\n",
    "        return prediction"
   ]
  },
  {
   "cell_type": "markdown",
   "id": "7cc8c86a",
   "metadata": {},
   "source": [
    "$$H(X) = \\sum^{K}_{k=1}p_{k}(1-p_{k}) = 1 - \\sum_{k=1}^K{p_k^2} ,$$\n"
   ]
  },
  {
   "cell_type": "code",
   "execution_count": 6,
   "id": "06170032",
   "metadata": {},
   "outputs": [],
   "source": [
    "# Расчет критерия Джини\n",
    "\n",
    "def gini(labels):\n",
    "    #  подсчет количества объектов разных классов\n",
    "    classes = {}\n",
    "    for label in labels:\n",
    "        if label not in classes:\n",
    "            classes[label] = 0\n",
    "        classes[label] += 1\n",
    "        \n",
    "    #  расчет критерия\n",
    "    impurity = 1\n",
    "    for label in classes:\n",
    "        p = classes[label] / len(labels)\n",
    "        impurity -= p ** 2\n",
    "    return impurity"
   ]
  },
  {
   "cell_type": "markdown",
   "id": "aa345187",
   "metadata": {},
   "source": [
    "$$H(X_{m}) - \\frac{|X_{l}|}{|X_{m}|}H(X_{l}) - \\frac{|X_{r}|}{|X_{m}|}H(X_{r}),$$"
   ]
  },
  {
   "cell_type": "code",
   "execution_count": 7,
   "id": "a7b1b613",
   "metadata": {},
   "outputs": [],
   "source": [
    "# Расчет прироста\n",
    "\n",
    "def gain(left_labels, right_labels, root_gini):\n",
    "    # доля выборки, ушедшая в левое поддерево\n",
    "    p = float(left_labels.shape[0] / left_labels.shape[0] + right_labels.shape[0])\n",
    "    return root_gini - p * gini(left_labels) - (1 - p) * gini(right_labels)"
   ]
  },
  {
   "cell_type": "code",
   "execution_count": 8,
   "id": "253feb38",
   "metadata": {},
   "outputs": [],
   "source": [
    "# Разбиение датасета в узле\n",
    "\n",
    "def split(data, labels, column_index, t):\n",
    "    \n",
    "    left = np.where(data[:, column_index] <= t)\n",
    "    right = np.where(data[:, column_index] > t)\n",
    "    \n",
    "    true_data = data[left]\n",
    "    false_data = data[right]\n",
    "    \n",
    "    true_labels = labels[left]\n",
    "    false_labels = labels[right]\n",
    "    \n",
    "    return true_data, false_data, true_labels, false_labels"
   ]
  },
  {
   "cell_type": "code",
   "execution_count": 9,
   "id": "3821dc44",
   "metadata": {},
   "outputs": [],
   "source": [
    "# Нахождение наилучшего разбиения\n",
    "\n",
    "def find_best_split(data, labels):\n",
    "    \n",
    "    #  обозначим минимальное количество объектов в узле\n",
    "    min_samples_leaf = 3\n",
    "    \n",
    "    root_gini = gini(labels)\n",
    "    \n",
    "    best_gain = 0\n",
    "    best_t = None\n",
    "    best_index = None\n",
    "    \n",
    "    n_features = data.shape[1]\n",
    "    \n",
    "    for index in range(n_features):\n",
    "        # будем проверять только уникальные значения признака, исключая повторения\n",
    "        t_values = np.unique(data[:, index])\n",
    "        \n",
    "        for t in t_values:\n",
    "            true_data, false_data, true_labels, false_labels = split(data, labels, index, t)\n",
    "            #  пропускаем разбиения, в которых в узле остается менее 5 объектов\n",
    "            if len(true_data) < min_samples_leaf or len(false_data) < min_samples_leaf:\n",
    "                continue\n",
    "            current_gain = gain(true_labels, false_labels, root_gini)\n",
    "            \n",
    "            #  выбираем порог, на котором получается максимальный прирост качества\n",
    "            if current_gain > best_gain:\n",
    "                best_gain, best_t, best_index = current_gain, t, index\n",
    "                \n",
    "    return best_gain, best_t, best_index"
   ]
  },
  {
   "cell_type": "code",
   "execution_count": 10,
   "id": "dd80ce20",
   "metadata": {},
   "outputs": [],
   "source": [
    "import time\n",
    "# Построение дерева с помощью рекурсивной функции\n",
    "\n",
    "def build_tree(data, labels, max_depth):\n",
    "    \n",
    "    global leafs_quantity\n",
    "    global max_leafs_quantity\n",
    "    depth = 0\n",
    "    \n",
    "    gain, t, index = find_best_split(data, labels)\n",
    "    \n",
    "    #  Базовый случай - прекращаем рекурсию, когда нет прироста в качества\n",
    "    if gain == 0 or depth > max_depth or leafs_quantity >= max_leafs_quantity:\n",
    "        return Leaf(data, labels)\n",
    "    \n",
    "    true_data, false_data, true_labels, false_labels = split(data, labels, index, t)\n",
    "    \n",
    "    # Рекурсивно строим два поддерева\n",
    "    leafs_quantity += 1\n",
    "    true_branch = build_tree(true_data, true_labels, depth+1)\n",
    "    false_branch = build_tree(false_data, false_labels, depth+1)\n",
    "    \n",
    "    # Возвращаем класс узла со всеми поддеревьями, то есть целого дерева\n",
    "    return Node(index, t, true_branch, false_branch)"
   ]
  },
  {
   "cell_type": "code",
   "execution_count": 11,
   "id": "f1c089d1",
   "metadata": {},
   "outputs": [],
   "source": [
    "def classify_object(obj, node):\n",
    "    \n",
    "    #  Останавливаем рекурсию, если достигли листа\n",
    "    if isinstance(node, Leaf):\n",
    "        answer = node.prediction\n",
    "        return answer\n",
    "    \n",
    "    if obj[node.index] <= node.t:\n",
    "        return classify_object(obj, node.true_branch)\n",
    "    else:\n",
    "        return classify_object(obj, node.false_branch)"
   ]
  },
  {
   "cell_type": "code",
   "execution_count": 12,
   "id": "21d25938",
   "metadata": {},
   "outputs": [],
   "source": [
    "def predict(data, tree):\n",
    "    \n",
    "    classes = []\n",
    "    for obj in data:\n",
    "        prediction = classify_object(obj, tree)\n",
    "        classes.append(prediction)\n",
    "    return classes"
   ]
  },
  {
   "cell_type": "code",
   "execution_count": 13,
   "id": "dee9a8b4",
   "metadata": {},
   "outputs": [],
   "source": [
    "# Разобьем выборку на обучающую и тестовую\n",
    "from sklearn.model_selection import train_test_split\n",
    "\n",
    "train_data, test_data, train_labels, test_labels = train_test_split(classification_data, \n",
    "                                                                    classification_labels, \n",
    "                                                                    test_size=0.3,\n",
    "                                                                    random_state=1)"
   ]
  },
  {
   "cell_type": "code",
   "execution_count": 14,
   "id": "764c0834",
   "metadata": {},
   "outputs": [],
   "source": [
    "# Построим дерево по обучающей выборке\n",
    "leafs_quantity = 1\n",
    "max_leafs_quantity = 25\n",
    "my_tree = build_tree(train_data, train_labels, 0)"
   ]
  },
  {
   "cell_type": "code",
   "execution_count": 15,
   "id": "74dec59b",
   "metadata": {},
   "outputs": [
    {
     "name": "stdout",
     "output_type": "stream",
     "text": [
      "23\n"
     ]
    }
   ],
   "source": [
    "print(leafs_quantity)"
   ]
  },
  {
   "cell_type": "code",
   "execution_count": 16,
   "id": "9ffe5193",
   "metadata": {},
   "outputs": [
    {
     "name": "stdout",
     "output_type": "stream",
     "text": [
      "Индекс 0 <= -1.7124426610298529\n",
      "--> True:\n",
      "  Прогноз: 0\n",
      "--> False:\n",
      "  Индекс 0 <= -1.4121643353903564\n",
      "  --> True:\n",
      "    Прогноз: 0\n",
      "  --> False:\n",
      "    Индекс 0 <= -1.2499312777434102\n",
      "    --> True:\n",
      "      Прогноз: 0\n",
      "    --> False:\n",
      "      Индекс 1 <= -1.8446354603590789\n",
      "      --> True:\n",
      "        Прогноз: 1\n",
      "      --> False:\n",
      "        Индекс 0 <= -1.1696331250622611\n",
      "        --> True:\n",
      "          Прогноз: 0\n",
      "        --> False:\n",
      "          Индекс 0 <= -0.9715037016309751\n",
      "          --> True:\n",
      "            Прогноз: 0\n",
      "          --> False:\n",
      "            Индекс 0 <= -0.931427286340031\n",
      "            --> True:\n",
      "              Прогноз: 0\n",
      "            --> False:\n",
      "              Индекс 0 <= -0.674498539454033\n",
      "              --> True:\n",
      "                Прогноз: 0\n",
      "              --> False:\n",
      "                Индекс 0 <= -0.5403007857080191\n",
      "                --> True:\n",
      "                  Прогноз: 0\n",
      "                --> False:\n",
      "                  Индекс 0 <= -0.48221701522338245\n",
      "                  --> True:\n",
      "                    Прогноз: 0\n",
      "                  --> False:\n",
      "                    Индекс 1 <= -1.5615264764194343\n",
      "                    --> True:\n",
      "                      Прогноз: 1\n",
      "                    --> False:\n",
      "                      Индекс 1 <= -1.482228891218829\n",
      "                      --> True:\n",
      "                        Прогноз: 1\n",
      "                      --> False:\n",
      "                        Индекс 0 <= -0.26751423090801474\n",
      "                        --> True:\n",
      "                          Прогноз: 0\n",
      "                        --> False:\n",
      "                          Индекс 1 <= -1.1823332177237444\n",
      "                          --> True:\n",
      "                            Прогноз: 1\n",
      "                          --> False:\n",
      "                            Индекс 1 <= -1.1039956269100006\n",
      "                            --> True:\n",
      "                              Прогноз: 1\n",
      "                            --> False:\n",
      "                              Индекс 1 <= -0.992807560817731\n",
      "                              --> True:\n",
      "                                Прогноз: 1\n",
      "                              --> False:\n",
      "                                Индекс 1 <= -0.8670981572833371\n",
      "                                --> True:\n",
      "                                  Прогноз: 1\n",
      "                                --> False:\n",
      "                                  Индекс 1 <= -0.7165631581111211\n",
      "                                  --> True:\n",
      "                                    Прогноз: 1\n",
      "                                  --> False:\n",
      "                                    Индекс 1 <= -0.475920435043533\n",
      "                                    --> True:\n",
      "                                      Прогноз: 1\n",
      "                                    --> False:\n",
      "                                      Индекс 1 <= -0.34586556222352305\n",
      "                                      --> True:\n",
      "                                        Прогноз: 1\n",
      "                                      --> False:\n",
      "                                        Индекс 0 <= -0.05059925053749681\n",
      "                                        --> True:\n",
      "                                          Прогноз: 0\n",
      "                                        --> False:\n",
      "                                          Индекс 1 <= -0.20567285279142267\n",
      "                                          --> True:\n",
      "                                            Прогноз: 1\n",
      "                                          --> False:\n",
      "                                            Прогноз: 0\n"
     ]
    }
   ],
   "source": [
    "# Напечатаем ход нашего дерева\n",
    "\n",
    "def print_tree(node, spacing=\"\"):\n",
    "    \n",
    "    # Если лист, то выводим его прогноз\n",
    "    if isinstance(node, Leaf):\n",
    "        print(spacing + 'Прогноз:', node.prediction)\n",
    "        return\n",
    "    \n",
    "    # Выведем значение индекса и порога на этом узле\n",
    "    print(spacing + 'Индекс', str(node.index), '<=', str(node.t))\n",
    "\n",
    "    # Рекурсионный вызов функции на положительном поддереве\n",
    "    print(spacing + '--> True:')\n",
    "    print_tree(node.true_branch, spacing + \"  \")\n",
    "\n",
    "    # Рекурсионный вызов функции на отрицательном поддереве\n",
    "    print(spacing + '--> False:')\n",
    "    print_tree(node.false_branch, spacing + \"  \")\n",
    "    \n",
    "print_tree(my_tree)"
   ]
  },
  {
   "cell_type": "code",
   "execution_count": 17,
   "id": "8028b462",
   "metadata": {},
   "outputs": [],
   "source": [
    "# Получим ответы для обучающей выборки \n",
    "train_answers = predict(train_data, my_tree)"
   ]
  },
  {
   "cell_type": "code",
   "execution_count": 18,
   "id": "b8ffb7d5",
   "metadata": {},
   "outputs": [],
   "source": [
    "# И получим ответы для тестовой выборки\n",
    "test_answers = predict(test_data, my_tree)"
   ]
  },
  {
   "cell_type": "code",
   "execution_count": 19,
   "id": "02f3b730",
   "metadata": {},
   "outputs": [],
   "source": [
    "# Введем функцию подсчета точности как доли правильных ответов\n",
    "\n",
    "def accuracy_metric(actual, predicted):\n",
    "    correct = 0\n",
    "    for i in range(len(actual)):\n",
    "        if actual[i] == predicted[i]:\n",
    "            correct += 1\n",
    "    return correct / float(len(actual)) * 100.0"
   ]
  },
  {
   "cell_type": "code",
   "execution_count": 20,
   "id": "489ca124",
   "metadata": {},
   "outputs": [
    {
     "data": {
      "text/plain": [
       "97.14285714285714"
      ]
     },
     "execution_count": 20,
     "metadata": {},
     "output_type": "execute_result"
    }
   ],
   "source": [
    "# Точность на обучающей выборке\n",
    "train_accuracy = accuracy_metric(train_labels, train_answers)\n",
    "train_accuracy"
   ]
  },
  {
   "cell_type": "code",
   "execution_count": 21,
   "id": "ed49b869",
   "metadata": {},
   "outputs": [
    {
     "data": {
      "text/plain": [
       "90.0"
      ]
     },
     "execution_count": 21,
     "metadata": {},
     "output_type": "execute_result"
    }
   ],
   "source": [
    "# Точность на тестовой выборке\n",
    "test_accuracy = accuracy_metric(test_labels, test_answers)\n",
    "test_accuracy"
   ]
  },
  {
   "cell_type": "code",
   "execution_count": 22,
   "id": "3f14daa4",
   "metadata": {},
   "outputs": [],
   "source": [
    "# Визуализируем дерево на графике\n",
    "\n",
    "def get_meshgrid(data, step=.05, border=1.2):\n",
    "    x_min, x_max = data[:, 0].min() - border, data[:, 0].max() + border\n",
    "    y_min, y_max = data[:, 1].min() - border, data[:, 1].max() + border\n",
    "    return np.meshgrid(np.arange(x_min, x_max, step), np.arange(y_min, y_max, step))\n",
    "\n",
    "\n",
    "def visualize(train_data, test_data):\n",
    "    plt.figure(figsize = (16, 7))\n",
    "\n",
    "    # график обучающей выборки\n",
    "    plt.subplot(1,2,1)\n",
    "    xx, yy = get_meshgrid(train_data)\n",
    "    light_colors = ListedColormap(['lightcoral', 'lightblue'])\n",
    "    mesh_predictions = np.array(predict(np.c_[xx.ravel(), yy.ravel()], my_tree)).reshape(xx.shape)\n",
    "    plt.pcolormesh(xx, yy, mesh_predictions, cmap = light_colors)\n",
    "    plt.scatter(train_data[:, 0], train_data[:, 1], c = train_labels, cmap = colors)\n",
    "    plt.title(f'Train accuracy={train_accuracy:.2f}')\n",
    "\n",
    "    # график тестовой выборки\n",
    "    plt.subplot(1,2,2)\n",
    "    plt.pcolormesh(xx, yy, mesh_predictions, cmap = light_colors)\n",
    "    plt.scatter(test_data[:, 0], test_data[:, 1], c = test_labels, cmap = colors)\n",
    "    plt.title(f'Test accuracy={test_accuracy:.2f}')"
   ]
  },
  {
   "cell_type": "code",
   "execution_count": 23,
   "id": "c966ef8c",
   "metadata": {},
   "outputs": [
    {
     "data": {
      "image/png": "[encoded data removed]",
      "text/plain": [
       "<Figure size 1152x504 with 2 Axes>"
      ]
     },
     "metadata": {
      "needs_background": "light"
     },
     "output_type": "display_data"
    }
   ],
   "source": [
    "visualize(train_data, test_data)"
   ]
  },
  {
   "cell_type": "markdown",
   "id": "3214584a",
   "metadata": {},
   "source": [
    "# Задание №2"
   ]
  },
  {
   "cell_type": "markdown",
   "id": "aa5318bb",
   "metadata": {},
   "source": [
    "Реализуйте дерево для задачи регрессии. Возьмите за основу дерево, реализованное в методичке, заменив механизм предсказания в листе на взятие среднего значения по выборке, и критерий Джини на дисперсию значений."
   ]
  },
  {
   "cell_type": "code",
   "execution_count": 24,
   "id": "3821b355",
   "metadata": {},
   "outputs": [],
   "source": [
    "regression_data, regression_target, coef = make_regression(n_samples=100, n_features=2, n_informative=1, n_targets=1, noise=5, coef=True, random_state=42)\n"
   ]
  },
  {
   "cell_type": "code",
   "execution_count": 25,
   "id": "2c6c28f0",
   "metadata": {},
   "outputs": [],
   "source": [
    "# Реализуем класс узла\n",
    "\n",
    "class Node:\n",
    "    \n",
    "    def __init__(self, index, t, true_branch, false_branch):\n",
    "        self.index = index # индекс признака, по которому ведется сравнение с порогом в этом узле\n",
    "        self.t = t # значение порога\n",
    "        self.true_branch = true_branch # поддерево, удовлетворяющее условию в узле\n",
    "        self.false_branch = false_branch # поддерево, не удовлетворяющее условию в узле"
   ]
  },
  {
   "cell_type": "code",
   "execution_count": 26,
   "id": "f380bed5",
   "metadata": {},
   "outputs": [],
   "source": [
    "# И класс терминального узла (листа)\n",
    "\n",
    "class Leaf:\n",
    "    \n",
    "    def __init__(self, data, target):\n",
    "        self.data = data\n",
    "        self.target = target\n",
    "        self.prediction = self.predict()\n",
    "    \n",
    "    # подсчет количества объектов разных классов\n",
    "    def predict(self):\n",
    "        # найдем среднее значение в листе\n",
    "        prediction = np.mean(self.target)\n",
    "        return prediction"
   ]
  },
  {
   "cell_type": "code",
   "execution_count": 27,
   "id": "1dcb2199",
   "metadata": {},
   "outputs": [],
   "source": [
    "# Расчет дисперсии\n",
    "\n",
    "def mse(array):\n",
    "    mean = array.mean()\n",
    "    return np.mean((array - mean)**2)"
   ]
  },
  {
   "cell_type": "code",
   "execution_count": 28,
   "id": "bd969bbe",
   "metadata": {},
   "outputs": [],
   "source": [
    "# Расчет прироста\n",
    "\n",
    "def gain(left_labels, right_labels, root_mse):\n",
    "    # доля выборки, ушедшая в левое поддерево\n",
    "    p = float(left_labels.shape[0] / left_labels.shape[0] + right_labels.shape[0])\n",
    "    return root_mse - p * mse(left_labels) - (1 - p) * mse(right_labels)"
   ]
  },
  {
   "cell_type": "code",
   "execution_count": 29,
   "id": "250fb2a4",
   "metadata": {},
   "outputs": [],
   "source": [
    "# Разбиение датасета в узле\n",
    "\n",
    "def split(data, target, column_index, t):\n",
    "    \n",
    "    left = np.where(data[:, column_index] <= t)\n",
    "    right = np.where(data[:, column_index] > t)\n",
    "    \n",
    "    true_data = data[left]\n",
    "    false_data = data[right]\n",
    "    \n",
    "    true_target = target[left]\n",
    "    false_target = target[right]\n",
    "    \n",
    "    return true_data, false_data, true_target, false_target"
   ]
  },
  {
   "cell_type": "code",
   "execution_count": 30,
   "id": "a6cc659c",
   "metadata": {},
   "outputs": [],
   "source": [
    "# Нахождение наилучшего разбиения\n",
    "\n",
    "def find_best_split(data, target):\n",
    "    \n",
    "    #  обозначим минимальное количество объектов в узле\n",
    "    min_samples_leaf = 3\n",
    "    \n",
    "    root_mse = mse(target)\n",
    "    \n",
    "    best_gain = 0\n",
    "    best_t = None\n",
    "    best_index = None\n",
    "    \n",
    "    n_features = data.shape[1]\n",
    "    \n",
    "    for index in range(n_features):\n",
    "        # будем проверять только уникальные значения признака, исключая повторения\n",
    "        t_values = np.unique(data[:, index])\n",
    "        \n",
    "        for t in t_values:\n",
    "            true_data, false_data, true_target, false_target = split(data, target, index, t)\n",
    "            #  пропускаем разбиения, в которых в узле остается менее 5 объектов\n",
    "            if len(true_data) < min_samples_leaf or len(false_data) < min_samples_leaf:\n",
    "                continue\n",
    "            current_gain = gain(true_target, false_target, root_mse)\n",
    "            \n",
    "            #  выбираем порог, на котором получается максимальный прирост качества\n",
    "            if current_gain > best_gain:\n",
    "                best_gain, best_t, best_index = current_gain, t, index\n",
    "                \n",
    "    return best_gain, best_t, best_index"
   ]
  },
  {
   "cell_type": "code",
   "execution_count": 31,
   "id": "b3d6ef44",
   "metadata": {},
   "outputs": [],
   "source": [
    "import time\n",
    "# Построение дерева с помощью рекурсивной функции\n",
    "\n",
    "def build_tree(data, target, max_depth):\n",
    "    \n",
    "    global leafs_quantity\n",
    "    global max_leafs_quantity\n",
    "    depth = 0\n",
    "    \n",
    "    gain, t, index = find_best_split(data, target)\n",
    "    \n",
    "    #  Базовый случай - прекращаем рекурсию, когда нет прироста в качества\n",
    "    if gain == 0 or depth > max_depth or leafs_quantity >= max_leafs_quantity:\n",
    "        return Leaf(data, target)\n",
    "    \n",
    "    true_data, false_data, true_target, false_target = split(data, target, index, t)\n",
    "    \n",
    "    # Рекурсивно строим два поддерева\n",
    "    leafs_quantity += 1\n",
    "    true_branch = build_tree(true_data, true_target, depth+1)\n",
    "    false_branch = build_tree(false_data, false_target, depth+1)\n",
    "    \n",
    "    # Возвращаем класс узла со всеми поддеревьями, то есть целого дерева\n",
    "    return Node(index, t, true_branch, false_branch)"
   ]
  },
  {
   "cell_type": "code",
   "execution_count": 32,
   "id": "3d608f91",
   "metadata": {},
   "outputs": [],
   "source": [
    "def classify_object(obj, node):\n",
    "    \n",
    "    #  Останавливаем рекурсию, если достигли листа\n",
    "    if isinstance(node, Leaf):\n",
    "        answer = node.prediction\n",
    "        return answer\n",
    "    \n",
    "    if obj[node.index] <= node.t:\n",
    "        return classify_object(obj, node.true_branch)\n",
    "    else:\n",
    "        return classify_object(obj, node.false_branch)"
   ]
  },
  {
   "cell_type": "code",
   "execution_count": 33,
   "id": "90bb1c21",
   "metadata": {},
   "outputs": [],
   "source": [
    "def predict(data, tree):\n",
    "    \n",
    "    classes = []\n",
    "    for obj in data:\n",
    "        prediction = classify_object(obj, tree)\n",
    "        classes.append(prediction)\n",
    "    return classes"
   ]
  },
  {
   "cell_type": "code",
   "execution_count": 34,
   "id": "ff9b0ab6",
   "metadata": {},
   "outputs": [],
   "source": [
    "# Разобьем выборку на обучающую и тестовую\n",
    "from sklearn.model_selection import train_test_split\n",
    "\n",
    "train_data, test_data, train_target, test_target = train_test_split(regression_data, \n",
    "                                                                    regression_target, \n",
    "                                                                    test_size=0.3,\n",
    "                                                                    random_state=1)"
   ]
  },
  {
   "cell_type": "code",
   "execution_count": 35,
   "id": "32ac74fe",
   "metadata": {},
   "outputs": [],
   "source": [
    "# Построим дерево по обучающей выборке\n",
    "leafs_quantity = 1\n",
    "max_leafs_quantity = 15\n",
    "my_tree = build_tree(train_data, train_target, 5)"
   ]
  },
  {
   "cell_type": "code",
   "execution_count": 36,
   "id": "7ca5fd05",
   "metadata": {},
   "outputs": [
    {
     "name": "stdout",
     "output_type": "stream",
     "text": [
      "Индекс 1 <= -1.4123037013352915\n",
      "--> True:\n",
      "  Прогноз: -43.116052109259456\n",
      "--> False:\n",
      "  Индекс 1 <= -0.6451197546051243\n",
      "  --> True:\n",
      "    Прогноз: 26.296127232156266\n",
      "  --> False:\n",
      "    Индекс 0 <= -1.4153707420504142\n",
      "    --> True:\n",
      "      Прогноз: -162.14030220761614\n",
      "    --> False:\n",
      "      Индекс 0 <= -1.0623037137261049\n",
      "      --> True:\n",
      "        Прогноз: -94.61832156949576\n",
      "      --> False:\n",
      "        Индекс 0 <= -0.9746816702273214\n",
      "        --> True:\n",
      "          Прогноз: -88.07769089018275\n",
      "        --> False:\n",
      "          Индекс 0 <= -0.7832532923362371\n",
      "          --> True:\n",
      "            Прогноз: -79.30324999931928\n",
      "          --> False:\n",
      "            Индекс 0 <= -0.6017066122293969\n",
      "            --> True:\n",
      "              Прогноз: -58.591846974127044\n",
      "            --> False:\n",
      "              Индекс 0 <= -0.4694743859349521\n",
      "              --> True:\n",
      "                Прогноз: -43.10333892293337\n",
      "              --> False:\n",
      "                Индекс 0 <= -0.4465149520670211\n",
      "                --> True:\n",
      "                  Прогноз: -39.03315708137756\n",
      "                --> False:\n",
      "                  Индекс 0 <= -0.2234627853258509\n",
      "                  --> True:\n",
      "                    Прогноз: -22.710900538699118\n",
      "                  --> False:\n",
      "                    Индекс 0 <= -0.16128571166600914\n",
      "                    --> True:\n",
      "                      Прогноз: -16.599350381129383\n",
      "                    --> False:\n",
      "                      Индекс 0 <= 0.00511345664246089\n",
      "                      --> True:\n",
      "                        Прогноз: -2.793017140789042\n",
      "                      --> False:\n",
      "                        Индекс 0 <= 0.08704706823817121\n",
      "                        --> True:\n",
      "                          Прогноз: 5.001471956438842\n",
      "                        --> False:\n",
      "                          Индекс 0 <= 0.173180925851182\n",
      "                          --> True:\n",
      "                            Прогноз: 11.676785742663858\n",
      "                          --> False:\n",
      "                            Прогноз: 73.62702078601048\n"
     ]
    }
   ],
   "source": [
    "# Напечатаем ход нашего дерева\n",
    "\n",
    "def print_tree(node, spacing=\"\"):\n",
    "    \n",
    "    # Если лист, то выводим его прогноз\n",
    "    if isinstance(node, Leaf):\n",
    "        print(spacing + 'Прогноз:', node.prediction)\n",
    "        return\n",
    "    \n",
    "    # Выведем значение индекса и порога на этом узле\n",
    "    print(spacing + 'Индекс', str(node.index), '<=', str(node.t))\n",
    "\n",
    "    # Рекурсионный вызов функции на положительном поддереве\n",
    "    print(spacing + '--> True:')\n",
    "    print_tree(node.true_branch, spacing + \"  \")\n",
    "\n",
    "    # Рекурсионный вызов функции на отрицательном поддереве\n",
    "    print(spacing + '--> False:')\n",
    "    print_tree(node.false_branch, spacing + \"  \")\n",
    "    \n",
    "print_tree(my_tree)"
   ]
  },
  {
   "cell_type": "code",
   "execution_count": 37,
   "id": "2f20f081",
   "metadata": {},
   "outputs": [],
   "source": [
    "# Введем функцию подсчета квадрата детерминации\n",
    "\n",
    "def r2_score(y, y_pred):\n",
    "    result = 1 - (np.mean((y - y_pred)**2) / np.mean((y - np.mean(y))**2))\n",
    "    return result"
   ]
  },
  {
   "cell_type": "code",
   "execution_count": 38,
   "id": "667dfb68",
   "metadata": {},
   "outputs": [],
   "source": [
    "# Получим ответы для обучающей выборки \n",
    "train_answers = predict(train_data, my_tree)"
   ]
  },
  {
   "cell_type": "code",
   "execution_count": 39,
   "id": "2d25f48e",
   "metadata": {},
   "outputs": [],
   "source": [
    "# И получим ответы для тестовой выборки\n",
    "test_answers = predict(test_data, my_tree)"
   ]
  },
  {
   "cell_type": "code",
   "execution_count": 40,
   "id": "72d9be49",
   "metadata": {},
   "outputs": [
    {
     "data": {
      "text/plain": [
       "0.755359819199073"
      ]
     },
     "execution_count": 40,
     "metadata": {},
     "output_type": "execute_result"
    }
   ],
   "source": [
    "# Точность на обучающей выборке\n",
    "train_r2 = r2_score(train_target, train_answers)\n",
    "train_r2"
   ]
  },
  {
   "cell_type": "code",
   "execution_count": 41,
   "id": "ac3c8fb0",
   "metadata": {},
   "outputs": [
    {
     "data": {
      "text/plain": [
       "0.503543344701094"
      ]
     },
     "execution_count": 41,
     "metadata": {},
     "output_type": "execute_result"
    }
   ],
   "source": [
    "# Точность на тестовой выборке\n",
    "test_r2 = r2_score(test_target, test_answers)\n",
    "test_r2"
   ]
  },
  {
   "cell_type": "code",
   "execution_count": 42,
   "id": "76652e6a",
   "metadata": {},
   "outputs": [],
   "source": [
    "# Визуализируем дерево на графике\n",
    "\n",
    "def get_meshgrid(data, step=.05, border=1.2):\n",
    "    x_min, x_max = data[:, 0].min() - border, data[:, 0].max() + border\n",
    "    y_min, y_max = data[:, 1].min() - border, data[:, 1].max() + border\n",
    "    return np.meshgrid(np.arange(x_min, x_max, step), np.arange(y_min, y_max, step))\n",
    "\n",
    "\n",
    "def visualize(train_data, test_data):\n",
    "    plt.figure(figsize = (16, 7))\n",
    "\n",
    "    # график обучающей выборки\n",
    "    plt.subplot(1,2,1)\n",
    "    xx, yy = get_meshgrid(train_data)\n",
    "    light_colors = ListedColormap(['lightcoral', 'lightblue'])\n",
    "    mesh_predictions = np.array(predict(np.c_[xx.ravel(), yy.ravel()], my_tree)).reshape(xx.shape)\n",
    "    plt.pcolormesh(xx, yy, mesh_predictions, cmap = light_colors)\n",
    "    plt.scatter(train_data[:, 0], train_data[:, 1], c = train_labels, cmap = colors)\n",
    "    plt.title(f'Train R2={train_r2:.2f}')\n",
    "\n",
    "    # график тестовой выборки\n",
    "    plt.subplot(1,2,2)\n",
    "    plt.pcolormesh(xx, yy, mesh_predictions, cmap = light_colors)\n",
    "    plt.scatter(test_data[:, 0], test_data[:, 1], c = test_labels, cmap = colors)\n",
    "    plt.title(f'Test R2={test_r2:.2f}')"
   ]
  },
  {
   "cell_type": "code",
   "execution_count": 43,
   "id": "b69f182f",
   "metadata": {},
   "outputs": [
    {
     "data": {
      "image/png": "[encoded data removed]",
      "text/plain": [
       "<Figure size 1152x504 with 2 Axes>"
      ]
     },
     "metadata": {
      "needs_background": "light"
     },
     "output_type": "display_data"
    }
   ],
   "source": [
    "visualize(train_data, test_data)"
   ]
  },
  {
   "cell_type": "code",
   "execution_count": null,
   "id": "b360efaf",
   "metadata": {},
   "outputs": [],
   "source": []
  }
 ],
 "metadata": {
  "kernelspec": {
   "display_name": "Python 3 (ipykernel)",
   "language": "python",
   "name": "python3"
  },
  "language_info": {
   "codemirror_mode": {
    "name": "ipython",
    "version": 3
   },
   "file_extension": ".py",
   "mimetype": "text/x-python",
   "name": "python",
   "nbconvert_exporter": "python",
   "pygments_lexer": "ipython3",
   "version": "3.9.12"
  }
 },
 "nbformat": 4,
 "nbformat_minor": 5
}
